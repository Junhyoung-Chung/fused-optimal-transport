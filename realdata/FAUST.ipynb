{
 "cells": [
  {
   "cell_type": "code",
   "execution_count": 1,
   "id": "9e559218-ac5c-432f-8845-964f1876027a",
   "metadata": {},
   "outputs": [
    {
     "name": "stdout",
     "output_type": "stream",
     "text": [
      "Jupyter environment detected. Enabling Open3D WebVisualizer.\n",
      "[Open3D INFO] WebRTC GUI backend enabled.\n",
      "[Open3D INFO] WebRTCWindowSystem: HTTP handshake server disabled.\n"
     ]
    }
   ],
   "source": [
    "from pathlib import Path\n",
    "import numpy as np\n",
    "import open3d as o3d\n",
    "import matplotlib.pyplot as plt\n",
    "import matplotlib.colors as mcolors\n",
    "import trimesh"
   ]
  },
  {
   "cell_type": "code",
   "execution_count": 2,
   "id": "8f892e3d-c819-44c5-b377-6d95f9b6d21b",
   "metadata": {},
   "outputs": [],
   "source": [
    "TRAIN_PATH = Path('MPI-FAUST/training/registrations')"
   ]
  },
  {
   "cell_type": "code",
   "execution_count": 3,
   "id": "f6023442-05c4-433d-bdeb-4ce63e127d45",
   "metadata": {},
   "outputs": [
    {
     "name": "stdout",
     "output_type": "stream",
     "text": [
      "#files: 100\n",
      "e.g. tr_reg_000.ply\n",
      "e.g. tr_reg_001.ply\n",
      "e.g. tr_reg_002.ply\n"
     ]
    }
   ],
   "source": [
    "def load_ply_mesh(p):\n",
    "    \"\"\"\n",
    "    p: Path to .ply\n",
    "    return: (V, F) with V:(n,3) float64, F:(m,3) int\n",
    "    \"\"\"\n",
    "    m = trimesh.load_mesh(str(p), process=False)\n",
    "    # trimesh는 faces가 (m,3), vertices가 (n,3)\n",
    "    V = np.asarray(m.vertices, dtype=np.float64)\n",
    "    F = np.asarray(m.faces, dtype=np.int32)\n",
    "    return V, F\n",
    "\n",
    "# 사용 가능한 파일 확인\n",
    "files = sorted(TRAIN_PATH.glob(\"*.ply\"))\n",
    "print(f\"#files: {len(files)}\")\n",
    "if files[:3]: \n",
    "    for f in files[:3]:\n",
    "        print(\"e.g.\", f.name)"
   ]
  },
  {
   "cell_type": "code",
   "execution_count": 4,
   "id": "23e582f0-6a3b-42ed-bf36-ab73f41a5222",
   "metadata": {},
   "outputs": [
    {
     "name": "stdout",
     "output_type": "stream",
     "text": [
      "V shape: (6890, 3) F shape: (13776, 3)\n",
      "bbox min: [-0.37152582 -1.15803194 -0.07673693] bbox max: [0.42788532 0.61692756 0.3256287 ]\n",
      "mean edge length ~ 0.016820639454223272\n"
     ]
    }
   ],
   "source": [
    "V, F = load_ply_mesh(files[0])\n",
    "print(\"V shape:\", V.shape, \"F shape:\", F.shape)\n",
    "print(\"bbox min:\", V.min(0), \"bbox max:\", V.max(0))\n",
    "print(\"mean edge length ~\", np.linalg.norm(V[F[:,0]]-V[F[:,1]], axis=1).mean())"
   ]
  },
  {
   "cell_type": "code",
   "execution_count": 5,
   "id": "aa8704ad-ddcb-4a0d-a0eb-fe67bb31d0ff",
   "metadata": {},
   "outputs": [],
   "source": [
    "def to_o3d_mesh(V, F):\n",
    "    m = o3d.geometry.TriangleMesh(\n",
    "        o3d.utility.Vector3dVector(V),\n",
    "        o3d.utility.Vector3iVector(F)\n",
    "    )\n",
    "    m.compute_vertex_normals()\n",
    "    return m\n",
    "\n",
    "# mesh = to_o3d_mesh(V, F)\n",
    "# o3d.visualization.draw_geometries([mesh])  # 새 창으로 3D 뷰어"
   ]
  },
  {
   "cell_type": "code",
   "execution_count": 6,
   "id": "fc9af786-3760-460a-b2db-f673081a8ba9",
   "metadata": {},
   "outputs": [],
   "source": [
    "V_s, F_s = load_ply_mesh(files[0])\n",
    "V_t, F_t = load_ply_mesh(files[1])\n",
    "\n",
    "mesh_s = to_o3d_mesh(V_s, F_s)\n",
    "mesh_t = to_o3d_mesh(V_t, F_t)\n",
    "\n",
    "# 한쪽을 옆으로 이동해서 나란히 띄우기\n",
    "offset = np.array([1.2*(V_s[:,0].ptp()), 0, 0])  # x축으로 bbox폭 만큼\n",
    "mesh_t.translate(offset)\n",
    "\n",
    "o3d.visualization.draw_geometries([mesh_s, mesh_t])"
   ]
  },
  {
   "cell_type": "code",
   "execution_count": 7,
   "id": "1634e1e0-08fe-41dd-8738-d10d0c25bb7a",
   "metadata": {},
   "outputs": [],
   "source": [
    "def to_mesh(V, F, colors=None):\n",
    "    mesh = o3d.geometry.TriangleMesh(\n",
    "        o3d.utility.Vector3dVector(V),\n",
    "        o3d.utility.Vector3iVector(F)\n",
    "    )\n",
    "    mesh.compute_vertex_normals()\n",
    "    if colors is not None:\n",
    "        mesh.vertex_colors = o3d.utility.Vector3dVector(colors)\n",
    "    return mesh\n",
    "\n",
    "# def random_colormap(n):\n",
    "#     cmap = plt.colormaps.get_cmap('hsv')  # 새 API\n",
    "#     colors = cmap(np.linspace(0, 1, n))[:, :3]\n",
    "#     return colors\n",
    "\n",
    "# n_parts = 10  # 예: 신체 10영역\n",
    "# labels = np.random.randint(0, n_parts, len(V_s))  # 예시: 랜덤 파트 라벨\n",
    "# colors_src = random_colormap(n_parts)[labels]\n",
    "colors_src = (V_s - V_s.min(0)) / (V_s.max(0) - V_s.min(0) + 1e-12)\n",
    "mesh_src = to_mesh(V_s, F_s, colors_src)"
   ]
  },
  {
   "cell_type": "code",
   "execution_count": 8,
   "id": "cc3e9610-c182-4f6a-a238-14f1625df42e",
   "metadata": {},
   "outputs": [],
   "source": [
    "n_s, n_t = len(V_s), len(V_t)\n",
    "\n",
    "# 랜덤 하드 매핑 (source마다 하나의 target)\n",
    "# vertex 개수가 다르면 일부는 중복 허용 (작은 쪽 기준)\n",
    "idx_t = np.random.choice(n_t, size=n_s, replace=False)\n",
    "\n",
    "# OT matrix T: (n_s, n_t)\n",
    "T = np.zeros((n_s, n_t), dtype=np.float64)\n",
    "T[np.arange(n_s), idx_t] = 1.0"
   ]
  },
  {
   "cell_type": "code",
   "execution_count": 9,
   "id": "a09cca78-6538-4e1e-9397-1b20520ab534",
   "metadata": {},
   "outputs": [],
   "source": [
    "def transfer_colors_soft(T, colors_src): \n",
    "    w = T.sum(0, keepdims=True) + 1e-12 \n",
    "    colors_t = (T.T @ colors_src) / w.T \n",
    "    return np.clip(colors_t, 0, 1) \n",
    "\n",
    "colors_t = transfer_colors_soft(T, colors_src) \n",
    "mesh_t = to_mesh(V_t, F_t, colors_t)"
   ]
  },
  {
   "cell_type": "code",
   "execution_count": 12,
   "id": "36a5c11e-3ce5-4a75-ac6d-7a1520ed72f6",
   "metadata": {},
   "outputs": [],
   "source": [
    "offset = np.array([1.2*V_s[:, 0].ptp(), 0, 0])\n",
    "mesh_t.translate(offset)\n",
    "o3d.visualization.draw_geometries([mesh_src,mesh_t])"
   ]
  },
  {
   "cell_type": "code",
   "execution_count": null,
   "id": "40ab9d12-541b-452a-a4df-e9942b6938b6",
   "metadata": {},
   "outputs": [],
   "source": []
  }
 ],
 "metadata": {
  "kernelspec": {
   "display_name": "Python 3 (ipykernel)",
   "language": "python",
   "name": "python3"
  },
  "language_info": {
   "codemirror_mode": {
    "name": "ipython",
    "version": 3
   },
   "file_extension": ".py",
   "mimetype": "text/x-python",
   "name": "python",
   "nbconvert_exporter": "python",
   "pygments_lexer": "ipython3",
   "version": "3.12.4"
  }
 },
 "nbformat": 4,
 "nbformat_minor": 5
}
