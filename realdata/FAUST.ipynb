{
 "cells": [
  {
   "cell_type": "code",
   "execution_count": 1,
   "id": "9e559218-ac5c-432f-8845-964f1876027a",
   "metadata": {},
   "outputs": [
    {
     "name": "stdout",
     "output_type": "stream",
     "text": [
      "Jupyter environment detected. Enabling Open3D WebVisualizer.\n",
      "[Open3D INFO] WebRTC GUI backend enabled.\n",
      "[Open3D INFO] WebRTCWindowSystem: HTTP handshake server disabled.\n"
     ]
    }
   ],
   "source": [
    "from pathlib import Path\n",
    "from scipy.sparse import coo_matrix, csr_matrix\n",
    "from scipy.sparse.csgraph import shortest_path\n",
    "from scipy.spatial.distance import cdist\n",
    "import numpy as np\n",
    "import open3d as o3d\n",
    "import matplotlib.pyplot as plt\n",
    "import matplotlib.colors as mcolors\n",
    "import trimesh\n",
    "import ot\n",
    "import ot.plot"
   ]
  },
  {
   "cell_type": "code",
   "execution_count": 2,
   "id": "bfa52f18-bc97-4192-91a8-c4d8a6a8d680",
   "metadata": {},
   "outputs": [],
   "source": [
    "import sys\n",
    "sys.path.append('../code')\n",
    "import FOT"
   ]
  },
  {
   "cell_type": "code",
   "execution_count": 3,
   "id": "8f892e3d-c819-44c5-b377-6d95f9b6d21b",
   "metadata": {},
   "outputs": [],
   "source": [
    "TRAIN_PATH = Path('MPI-FAUST/training/registrations')"
   ]
  },
  {
   "cell_type": "code",
   "execution_count": 4,
   "id": "f6023442-05c4-433d-bdeb-4ce63e127d45",
   "metadata": {},
   "outputs": [
    {
     "name": "stdout",
     "output_type": "stream",
     "text": [
      "#files: 100\n",
      "e.g. tr_reg_000.ply\n",
      "e.g. tr_reg_001.ply\n",
      "e.g. tr_reg_002.ply\n"
     ]
    }
   ],
   "source": [
    "def load_ply_mesh(p):\n",
    "    \"\"\"\n",
    "    p: Path to .ply\n",
    "    return: (V, F) with V:(n,3) float64, F:(m,3) int\n",
    "    \"\"\"\n",
    "    m = trimesh.load_mesh(str(p), process=False)\n",
    "    # trimesh는 faces가 (m,3), vertices가 (n,3)\n",
    "    V = np.asarray(m.vertices, dtype=np.float64)\n",
    "    F = np.asarray(m.faces, dtype=np.int32)\n",
    "    return V, F\n",
    "\n",
    "# 사용 가능한 파일 확인\n",
    "files = sorted(TRAIN_PATH.glob(\"*.ply\"))\n",
    "print(f\"#files: {len(files)}\")\n",
    "if files[:3]: \n",
    "    for f in files[:3]:\n",
    "        print(\"e.g.\", f.name)"
   ]
  },
  {
   "cell_type": "code",
   "execution_count": 5,
   "id": "23e582f0-6a3b-42ed-bf36-ab73f41a5222",
   "metadata": {},
   "outputs": [],
   "source": [
    "# V, F = load_ply_mesh(files[0])\n",
    "# print(\"V shape:\", V.shape, \"F shape:\", F.shape)\n",
    "# print(\"bbox min:\", V.min(0), \"bbox max:\", V.max(0))\n",
    "# print(\"mean edge length ~\", np.linalg.norm(V[F[:,0]]-V[F[:,1]], axis=1).mean())"
   ]
  },
  {
   "cell_type": "code",
   "execution_count": 6,
   "id": "aa8704ad-ddcb-4a0d-a0eb-fe67bb31d0ff",
   "metadata": {},
   "outputs": [],
   "source": [
    "def to_mesh(V, F, colors=None):\n",
    "    mesh = o3d.geometry.TriangleMesh(\n",
    "        o3d.utility.Vector3dVector(V),\n",
    "        o3d.utility.Vector3iVector(F)\n",
    "    )\n",
    "    mesh.compute_vertex_normals()\n",
    "    if colors is not None:\n",
    "        mesh.vertex_colors = o3d.utility.Vector3dVector(colors)\n",
    "    return mesh\n",
    "\n",
    "# mesh = to_mesh(V, F)\n",
    "# o3d.visualization.draw_geometries([mesh])  # 새 창으로 3D 뷰어"
   ]
  },
  {
   "cell_type": "code",
   "execution_count": 7,
   "id": "fc9af786-3760-460a-b2db-f673081a8ba9",
   "metadata": {},
   "outputs": [],
   "source": [
    "V_s, F_s = load_ply_mesh(files[0])\n",
    "V_t, F_t = load_ply_mesh(files[1])\n",
    "n_s, n_t = len(V_s), len(V_t)\n",
    "\n",
    "# mesh_s = to_mesh(V_s, F_s)\n",
    "# mesh_t = to_mesh(V_t, F_t)\n",
    "\n",
    "# # 한쪽을 옆으로 이동해서 나란히 띄우기\n",
    "# offset = np.array([1.2*(V_s[:,0].ptp()), 0, 0])  # x축으로 bbox폭 만큼\n",
    "# mesh_t.translate(offset)\n",
    "\n",
    "# o3d.visualization.draw_geometries([mesh_s, mesh_t])"
   ]
  },
  {
   "cell_type": "code",
   "execution_count": 8,
   "id": "1634e1e0-08fe-41dd-8738-d10d0c25bb7a",
   "metadata": {},
   "outputs": [],
   "source": [
    "# def random_colormap(n):\n",
    "#     cmap = plt.colormaps.get_cmap('hsv')  # 새 API\n",
    "#     colors = cmap(np.linspace(0, 1, n))[:, :3]\n",
    "#     return colors\n",
    "\n",
    "# n_parts = 10  # 예: 신체 10영역\n",
    "# labels = np.random.randint(0, n_parts, len(V_s))  # 예시: 랜덤 파트 라벨\n",
    "# colors_src = random_colormap(n_parts)[labels]\n",
    "colors_src = (V_s - V_s.min(0)) / (V_s.max(0) - V_s.min(0) + 1e-12)\n",
    "mesh_src = to_mesh(V_s, F_s, colors_src)"
   ]
  },
  {
   "cell_type": "code",
   "execution_count": 9,
   "id": "cc3e9610-c182-4f6a-a238-14f1625df42e",
   "metadata": {},
   "outputs": [],
   "source": [
    "# 랜덤 하드 매핑 (source마다 하나의 target)\n",
    "# vertex 개수가 다르면 일부는 중복 허용 (작은 쪽 기준)\n",
    "# idx_t = np.random.choice(n_t, size=n_s, replace=False)\n",
    "\n",
    "# # OT matrix T: (n_s, n_t)\n",
    "# T = np.zeros((n_s, n_t), dtype=np.float64)\n",
    "# T[np.arange(n_s), idx_t] = 1.0"
   ]
  },
  {
   "cell_type": "code",
   "execution_count": 10,
   "id": "a09cca78-6538-4e1e-9397-1b20520ab534",
   "metadata": {},
   "outputs": [],
   "source": [
    "def transfer_colors_soft(T, colors_src): \n",
    "    w = T.sum(0, keepdims=True) + 1e-12 \n",
    "    colors_t = (T.T @ colors_src) / w.T \n",
    "    return np.clip(colors_t, 0, 1) "
   ]
  },
  {
   "cell_type": "code",
   "execution_count": 11,
   "id": "36a5c11e-3ce5-4a75-ac6d-7a1520ed72f6",
   "metadata": {},
   "outputs": [],
   "source": [
    "# colors_t = transfer_colors_soft(T, colors_src) \n",
    "# mesh_t = to_mesh(V_t, F_t, colors_t)\n",
    "\n",
    "# offset = np.array([1.2*V_s[:, 0].ptp(), 0, 0])\n",
    "# mesh_t.translate(offset)\n",
    "# o3d.visualization.draw_geometries([mesh_src,mesh_t])"
   ]
  },
  {
   "cell_type": "code",
   "execution_count": 12,
   "id": "40ab9d12-541b-452a-a4df-e9942b6938b6",
   "metadata": {},
   "outputs": [],
   "source": [
    "#### Naive OT ####\n",
    "\n",
    "# M = ot.dist(V_s,V_t, metric='sqeuclidean')\n",
    "# a = np.ones((n_s,)) / n_s\n",
    "# b = np.ones((n_t,)) / n_t\n",
    "\n",
    "# T_naive = ot.solve(M, a, b).plan"
   ]
  },
  {
   "cell_type": "code",
   "execution_count": 13,
   "id": "5f14abb9-d46a-446d-9e54-f3cfd150ba55",
   "metadata": {},
   "outputs": [],
   "source": [
    "# colors_naive = transfer_colors_soft(T_naive, colors_src) \n",
    "# mesh_naive = to_mesh(V_t, F_t, colors_naive)\n",
    "\n",
    "# offset = np.array([1.2*V_s[:, 0].ptp(), 0, 0])\n",
    "# mesh_naive.translate(offset)\n",
    "# o3d.visualization.draw_geometries([mesh_src,mesh_naive])"
   ]
  },
  {
   "cell_type": "code",
   "execution_count": 14,
   "id": "9c1a5735-c38e-4998-8790-49ed8fe3a45e",
   "metadata": {},
   "outputs": [],
   "source": [
    "# def plot_transport_heatmap(T, title=\"Transport plan T (rows: X_i, cols: Y_j)\"):\n",
    "#     fig, ax = plt.subplots(figsize=(6,5))\n",
    "#     im = ax.imshow(T, aspect='auto')  # 행: X_i, 열: Y_j\n",
    "#     ax.set_xlabel('target index j')\n",
    "#     ax.set_ylabel('source index i')\n",
    "#     ax.set_title(title)\n",
    "#     cbar = plt.colorbar(im, ax=ax)\n",
    "#     cbar.set_label('mass T[i,j]')\n",
    "#     plt.tight_layout()\n",
    "#     plt.show()\n",
    "\n",
    "# def plot_transport_heatmap(T, n_sub=200, seed=0, title=\"Transport plan (sampled)\"):\n",
    "#     np.random.seed(seed)\n",
    "#     n_source, n_target = T.shape\n",
    "#     idx_s = np.random.choice(n_source, n_sub, replace=False)\n",
    "#     idx_t = np.random.choice(n_target, n_sub, replace=False)\n",
    "#     T_sub = T[np.ix_(idx_s, idx_t)]\n",
    "    \n",
    "#     fig, ax = plt.subplots(figsize=(6,5))\n",
    "#     im = ax.imshow(T_sub, aspect='auto')\n",
    "#     ax.set_xlabel(f'target index j (sampled {n_sub})')\n",
    "#     ax.set_ylabel(f'source index i (sampled {n_sub})')\n",
    "#     ax.set_title(title)\n",
    "#     cbar = plt.colorbar(im, ax=ax)\n",
    "#     cbar.set_label('mass T[i,j]')\n",
    "#     plt.tight_layout()\n",
    "#     plt.show()"
   ]
  },
  {
   "cell_type": "code",
   "execution_count": 15,
   "id": "68dc5438-d2f5-4df9-b406-b690c4451c45",
   "metadata": {},
   "outputs": [],
   "source": [
    "# def gaussian_kernel_matrix(V, h):\n",
    "#     \"\"\"\n",
    "#     Gaussian kernel matrix based on actual vertex coordinates.\n",
    "\n",
    "#     Parameters\n",
    "#     ----------\n",
    "#     V : (n, d) array\n",
    "#         Vertex coordinates.\n",
    "#     h : float\n",
    "#         Bandwidth parameter.\n",
    "\n",
    "#     Returns\n",
    "#     -------\n",
    "#     Kh : (n, n) array\n",
    "#         Symmetric kernel matrix with entries exp(-||v_i - v_j||^2 / (2h^2))\n",
    "#     \"\"\"\n",
    "#     D2 = cdist(V, V, metric='sqeuclidean')  # ||V_i - V_j||^2\n",
    "#     Kh = np.exp(- D2 / (2.0 * h**2))\n",
    "#     np.fill_diagonal(Kh, 0.0)                # 자기쌍 제외\n",
    "#     Kh = 0.5 * (Kh + Kh.T)                   # 수치적 대칭화\n",
    "#     return np.sqrt(Kh)\n",
    "\n",
    "# M = ot.dist(V_s,V_t, metric='sqeuclidean')\n",
    "# C1 = ot.dist(V_s,V_s, metric='euclidean')\n",
    "# C2 = ot.dist(V_t,V_t, metric='euclidean')\n",
    "\n",
    "# a = np.ones((n_s,)) / n_s\n",
    "# b = np.ones((n_t,)) / n_t\n",
    "\n",
    "# avg_dist_X = np.mean(cdist(V_s, V_s))\n",
    "# avg_dist_Y = np.mean(cdist(V_t, V_t))\n",
    "# hX = 0.05 * avg_dist_X\n",
    "# hY = 0.05 * avg_dist_Y\n",
    "\n",
    "\n",
    "# KhX = gaussian_kernel_matrix(V_s, hX)\n",
    "# KhY = gaussian_kernel_matrix(V_t, hY)\n",
    "# eps = 1e-12\n",
    "# C1p = KhX * C1\n",
    "# C2p = KhY * C2\n",
    "# C1p *= (C1.mean() + eps) / (C1p.mean() + eps)\n",
    "# C2p *= (C2.mean() + eps) / (C2p.mean() + eps)\n",
    "\n",
    "# alpha = 1.0\n",
    "\n",
    "# T_kernel = ot.gromov.fused_gromov_wasserstein(M, C1p, C2p, a, b, alpha=alpha, loss_fun='square_loss')"
   ]
  },
  {
   "cell_type": "code",
   "execution_count": 16,
   "id": "4bd027aa-3c15-425a-84a1-53b0a5d4ed57",
   "metadata": {},
   "outputs": [],
   "source": [
    "# 1) 메쉬 그래프의 간선 길이(유클리드)로 가중치 부여\n",
    "def build_edge_graph(V, F):\n",
    "    \"\"\"\n",
    "    V: (n,3) vertex coords, F: (m,3) faces (int)\n",
    "    return: CSR sparse adjacency with edge weights = edge lengths\n",
    "    \"\"\"\n",
    "    n = V.shape[0]\n",
    "    # 얼굴에서 간선 후보 추출\n",
    "    E = np.vstack([\n",
    "        F[:, [0, 1]],\n",
    "        F[:, [1, 2]],\n",
    "        F[:, [2, 0]]\n",
    "    ])\n",
    "    # 무방향 간선 정규화(작은 idx가 앞)\n",
    "    E = np.sort(E, axis=1)\n",
    "    # 중복 제거\n",
    "    E = np.unique(E, axis=0)\n",
    "\n",
    "    i, j = E[:, 0], E[:, 1]\n",
    "    # 간선 길이 = ||v_i - v_j||\n",
    "    L = np.linalg.norm(V[i] - V[j], axis=1)\n",
    "\n",
    "    # 양방향으로 넣어 대칭 그래프 생성\n",
    "    rows = np.concatenate([i, j])\n",
    "    cols = np.concatenate([j, i])\n",
    "    data = np.concatenate([L, L])\n",
    "\n",
    "    W = coo_matrix((data, (rows, cols)), shape=(n, n)).tocsr()\n",
    "    return W\n",
    "\n",
    "# 2) 지오데식(모든 정점쌍 최단거리)\n",
    "def geodesic_matrix(V, F):\n",
    "    \"\"\"\n",
    "    return: D (n,n) geodesic distances on the mesh (float64)\n",
    "    \"\"\"\n",
    "    W = build_edge_graph(V, F)\n",
    "    # Dijkstra on undirected weighted graph\n",
    "    D = shortest_path(W, directed=False, unweighted=False)  # (n,n)\n",
    "    # 수치적 안전장치: 자기항 0, 대칭화\n",
    "    np.fill_diagonal(D, 0.0)\n",
    "    D = 0.5 * (D + D.T)\n",
    "    return D\n",
    "\n",
    "# # 3) 지오데식 기반 가우시안 커널\n",
    "# def geodesic_kernel_matrix(V, F, h):\n",
    "#     \"\"\"\n",
    "#     K_ij = exp( - d_geo(i,j)^2 / (2 h^2) ), diag=0, sqrt로 완화\n",
    "#     \"\"\"\n",
    "#     D = geodesic_matrix(V, F)\n",
    "#     Kh = np.exp(-(D**2) / (2.0 * (h**2)))\n",
    "#     np.fill_diagonal(Kh, 0.0)\n",
    "#     Kh = 0.5 * (Kh + Kh.T)\n",
    "#     return np.sqrt(Kh)\n",
    "\n",
    "# # ---------- 여기서부터 기존 파이프라인 치환 ----------\n",
    "# # (V_s, F_s), (V_t, F_t) 는 FAUST source/target 메쉬\n",
    "# n_s, n_t = V_s.shape[0], V_t.shape[0]\n",
    "# a = np.ones(n_s) / n_s\n",
    "# b = np.ones(n_t) / n_t\n",
    "\n",
    "# # (A) 구조거리: 유클리드 대신 지오데식으로\n",
    "Dx = geodesic_matrix(V_s, F_s).astype(np.float64)\n",
    "Dy = geodesic_matrix(V_t, F_t).astype(np.float64)\n",
    "\n",
    "# # (B) 커널 대역폭: 지오데식 스케일에 맞춰 추정(비대각 원소 평균/중앙값 기반)\n",
    "# def offdiag_mean(D):\n",
    "#     m = D.shape[0]\n",
    "#     return D[~np.eye(m, dtype=bool)].mean()\n",
    "\n",
    "# avg_geo_X = offdiag_mean(Dx)\n",
    "# avg_geo_Y = offdiag_mean(Dy)\n",
    "# hX = 10 * avg_geo_X   # 필요시 0.03~0.1 범위 탐색 추천\n",
    "# # hY = 0.05 * avg_geo_Y\n",
    "\n",
    "# # KhX = geodesic_kernel_matrix(V_s, F_s, hX)\n",
    "# # KhX = 1\n",
    "# # KhY = geodesic_kernel_matrix(V_t, F_t, hY)\n",
    "\n",
    "# # (C) 구조항에 커널 가중을 곱해 local coherence 강화\n",
    "# eps = 1e-12\n",
    "# C1p = KhX * C1\n",
    "# C2p = KhX * C2\n",
    "# # 스케일 정렬(원래 C1, C2와 평균 스케일 맞추기) → FGW 수치 안정성↑\n",
    "# C1p *= (C1.mean() + eps) / (C1p.mean() + eps)\n",
    "# C2p *= (C2.mean() + eps) / (C2p.mean() + eps)\n",
    "\n",
    "# # (D) 특성거리 M: 두 그래프 간의 point feature 거리\n",
    "# # - 가장 권장: HKS/WKS/SHOT 등 불변 특징의 L2거리\n",
    "# # - 대안(빠른 실험): 좌표 유클리드(정렬/정규화 후) 또는 색/법선 특징\n",
    "# # 예) 좌표유클리드(현 상태 유지):\n",
    "# M = cdist(V_s, V_t, metric='sqeuclidean')"
   ]
  },
  {
   "cell_type": "code",
   "execution_count": null,
   "id": "f5a57273-3b88-40ee-8670-902b0ad9cb57",
   "metadata": {},
   "outputs": [
    {
     "name": "stderr",
     "output_type": "stream",
     "text": [
      "C:\\Users\\junhy\\AppData\\Local\\Programs\\Python\\Python312\\Lib\\site-packages\\ot\\lp\\_network_simplex.py:332: UserWarning: numItermax reached before optimality. Try to increase numItermax.\n",
      "  result_code_string = check_result(result_code)\n"
     ]
    }
   ],
   "source": [
    "model = FOT.ConvexFusedTransport(\n",
    "    alpha=0.8,\n",
    "    h=1,\n",
    "    kappa='decreasing_exp',\n",
    "    metric=None,\n",
    "    fw_max_iter=200,\n",
    "    fw_stepsize='classic',\n",
    "    tol=1e-7,\n",
    "    lmo_method='emd',\n",
    "    pre_DX = Dx,\n",
    "    pre_DY = Dy\n",
    ").fit(X=V_s,Y=V_t,FX=V_s,FY=V_t, return_hard_assignment=True)"
   ]
  },
  {
   "cell_type": "code",
   "execution_count": null,
   "id": "89d29f98-3155-4e20-82bf-b22696770623",
   "metadata": {},
   "outputs": [],
   "source": [
    "colors_FOT = transfer_colors_soft(model.P_, colors_src) \n",
    "mesh_FOT = to_mesh(V_t, F_t, colors_kernel)\n",
    "\n",
    "offset = np.array([1.2*V_s[:, 0].ptp(), 0, 0])\n",
    "mesh_FOT.translate(offset)\n",
    "\n",
    "o3d.visualization.draw_geometries([mesh_src,mesh_FOT])"
   ]
  },
  {
   "cell_type": "code",
   "execution_count": 60,
   "id": "21b19693-2f27-4eb5-9d45-b1d2a1b00760",
   "metadata": {},
   "outputs": [],
   "source": [
    "# alpha = 0.7  # pure GW라면 1.0, 특징도 섞으려면 (0<alpha<1)로\n",
    "# T_kernel = ot.gromov.fused_gromov_wasserstein(\n",
    "#     M, C1p, C2p, a, b,\n",
    "#     alpha=alpha, loss_fun='square_loss'\n",
    "# )\n",
    "\n",
    "# alpha = 0.2  # pure GW라면 1.0, 특징도 섞으려면 (0<alpha<1)로\n",
    "# T_kernel_a = ot.gromov.fused_gromov_wasserstein(\n",
    "#     M, C1p, C2p, a, b,\n",
    "#     alpha=alpha, loss_fun='square_loss'\n",
    "# )\n",
    "\n",
    "# alpha = 0.7  # pure GW라면 1.0, 특징도 섞으려면 (0<alpha<1)로\n",
    "# T_kernel_b = ot.gromov.fused_gromov_wasserstein(\n",
    "#     M, C1p, C2p, a, b,\n",
    "#     alpha=alpha, loss_fun='square_loss'\n",
    "# )\n",
    "\n",
    "# alpha = 0.9  # pure GW라면 1.0, 특징도 섞으려면 (0<alpha<1)로\n",
    "# T_kernel_c = ot.gromov.fused_gromov_wasserstein(\n",
    "#     M, C1p, C2p, a, b,\n",
    "#     alpha=alpha, loss_fun='square_loss'\n",
    "# )\n",
    "\n",
    "# alpha = 0.9  # pure GW라면 1.0, 특징도 섞으려면 (0<alpha<1)로\n",
    "# T_kernel_d = ot.gromov.fused_gromov_wasserstein(\n",
    "#     M, C1p, C2p, a, b,\n",
    "#     alpha=alpha, loss_fun='square_loss'\n",
    "# )"
   ]
  },
  {
   "cell_type": "code",
   "execution_count": 61,
   "id": "43c71418-5e55-47f3-a90c-007755493cfe",
   "metadata": {},
   "outputs": [],
   "source": [
    "# colors_naive = transfer_colors_soft(T_naive, colors_src) \n",
    "# mesh_naive = to_mesh(V_t, F_t, colors_naive)\n",
    "\n",
    "# colors_kernel = transfer_colors_soft(T_kernel, colors_src) \n",
    "# mesh_kernel = to_mesh(V_t, F_t, colors_kernel)\n",
    "\n",
    "# offset = np.array([1.2*V_s[:, 0].ptp(), 0, 0])\n",
    "# mesh_naive.translate(offset)\n",
    "\n",
    "# offset = np.array([2.4*V_s[:, 0].ptp(), 0, 0])\n",
    "# mesh_kernel.translate(offset)\n",
    "\n",
    "# o3d.visualization.draw_geometries([mesh_src,mesh_naive,mesh_kernel])"
   ]
  },
  {
   "cell_type": "code",
   "execution_count": null,
   "id": "7a98329f-0ff7-47d6-a685-0a7bf6897168",
   "metadata": {},
   "outputs": [],
   "source": [
    "colors_naive = transfer_colors_soft(T_naive, colors_src) \n",
    "mesh_naive = to_mesh(V_t, F_t, colors_naive)\n",
    "\n",
    "colors_kernel_a = transfer_colors_soft(T_kernel_a, colors_src) \n",
    "mesh_kernel_a = to_mesh(V_t, F_t, colors_kernel_a)\n",
    "\n",
    "colors_kernel_b = transfer_colors_soft(T_kernel_b, colors_src) \n",
    "mesh_kernel_b = to_mesh(V_t, F_t, colors_kernel_b)\n",
    "\n",
    "colors_kernel_c = transfer_colors_soft(T_kernel_c, colors_src) \n",
    "mesh_kernel_c = to_mesh(V_t, F_t, colors_kernel_c)\n",
    "\n",
    "colors_kernel_d = transfer_colors_soft(T_kernel_d, colors_src) \n",
    "mesh_kernel_d = to_mesh(V_t, F_t, colors_kernel_d)\n",
    "\n",
    "offset = np.array([1.2*V_s[:, 0].ptp(), 0, 0])\n",
    "mesh_naive.translate(offset)\n",
    "\n",
    "offset = np.array([2.4*V_s[:, 0].ptp(), 0, 0])\n",
    "mesh_kernel_a.translate(offset)\n",
    "\n",
    "offset = np.array([3.6*V_s[:, 0].ptp(), 0, 0])\n",
    "mesh_kernel_b.translate(offset)\n",
    "\n",
    "offset = np.array([4.8*V_s[:, 0].ptp(), 0, 0])\n",
    "mesh_kernel_c.translate(offset)\n",
    "\n",
    "offset = np.array([6.0*V_s[:, 0].ptp(), 0, 0])\n",
    "mesh_kernel_d.translate(offset)\n",
    "\n",
    "o3d.visualization.draw_geometries([mesh_src,mesh_naive,mesh_kernel_a,mesh_kernel_b,mesh_kernel_c,mesh_kernel_d])"
   ]
  },
  {
   "cell_type": "code",
   "execution_count": 58,
   "id": "4240f801-8852-438c-9e42-3510158d3f25",
   "metadata": {},
   "outputs": [
    {
     "data": {
      "text/plain": [
       "0.5145512784055482"
      ]
     },
     "execution_count": 58,
     "metadata": {},
     "output_type": "execute_result"
    }
   ],
   "source": [
    "np.mean(M)"
   ]
  },
  {
   "cell_type": "code",
   "execution_count": 46,
   "id": "b2bbf513-0824-42cb-a9a2-b1b0b950b34f",
   "metadata": {},
   "outputs": [
    {
     "data": {
      "text/plain": [
       "0.9225204811940164"
      ]
     },
     "execution_count": 46,
     "metadata": {},
     "output_type": "execute_result"
    }
   ],
   "source": [
    "np.mean(C1p)"
   ]
  },
  {
   "cell_type": "code",
   "execution_count": 47,
   "id": "c09c82ba-2de5-45a5-806d-9a043f36f362",
   "metadata": {},
   "outputs": [
    {
     "data": {
      "text/plain": [
       "0.9043404089432612"
      ]
     },
     "execution_count": 47,
     "metadata": {},
     "output_type": "execute_result"
    }
   ],
   "source": [
    "np.mean(C2p)"
   ]
  },
  {
   "cell_type": "code",
   "execution_count": null,
   "id": "899b897b-29df-48a7-9e97-0e24c0a1232c",
   "metadata": {},
   "outputs": [],
   "source": []
  }
 ],
 "metadata": {
  "kernelspec": {
   "display_name": "Python 3 (ipykernel)",
   "language": "python",
   "name": "python3"
  },
  "language_info": {
   "codemirror_mode": {
    "name": "ipython",
    "version": 3
   },
   "file_extension": ".py",
   "mimetype": "text/x-python",
   "name": "python",
   "nbconvert_exporter": "python",
   "pygments_lexer": "ipython3",
   "version": "3.12.4"
  }
 },
 "nbformat": 4,
 "nbformat_minor": 5
}
